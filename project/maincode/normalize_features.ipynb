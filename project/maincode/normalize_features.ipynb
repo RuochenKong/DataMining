{
 "cells": [
  {
   "cell_type": "code",
   "execution_count": 10,
   "id": "f5fe0afa",
   "metadata": {},
   "outputs": [
    {
     "data": {
      "text/plain": [
       "(19909, 356)"
      ]
     },
     "execution_count": 10,
     "metadata": {},
     "output_type": "execute_result"
    }
   ],
   "source": [
    "import numpy as np\n",
    "import pandas as pd\n",
    "\n",
    "D = np.load('../data/processed_train.npy')\n",
    "D = np.nan_to_num(D)\n",
    "D.shape"
   ]
  },
  {
   "cell_type": "code",
   "execution_count": 11,
   "id": "1c7c2eb4",
   "metadata": {},
   "outputs": [
    {
     "data": {
      "text/plain": [
       "array([[0.42857143, 0.92919445, 0.99924326, ..., 0.42857143, 0.09831672,\n",
       "        0.07423132],\n",
       "       [0.33333333, 0.93529886, 0.99467313, ..., 0.33333333, 0.19374994,\n",
       "        0.13045451],\n",
       "       [0.52941176, 0.82090753, 0.91573852, ..., 0.52941176, 0.16082893,\n",
       "        0.03935232],\n",
       "       [0.5625    , 0.90724909, 0.99272054, ..., 0.5625    , 0.24532043,\n",
       "        0.02767388],\n",
       "       [0.33333333, 0.        , 0.99973387, ..., 0.33333333, 0.14352106,\n",
       "        0.17431755]])"
      ]
     },
     "execution_count": 11,
     "metadata": {},
     "output_type": "execute_result"
    }
   ],
   "source": [
    "Dmax = np.amax(D,axis = 0)\n",
    "Dmin = np.amin(D,axis = 0)\n",
    "\n",
    "\n",
    "Dnorm = (D-Dmin)/(Dmax-Dmin)\n",
    "Dnorm[:5][:5]"
   ]
  },
  {
   "cell_type": "code",
   "execution_count": 13,
   "id": "c91cfcec",
   "metadata": {},
   "outputs": [],
   "source": [
    "np.save('../data/normalized.npy',Dnorm)"
   ]
  },
  {
   "cell_type": "code",
   "execution_count": null,
   "id": "810f8810",
   "metadata": {},
   "outputs": [],
   "source": []
  }
 ],
 "metadata": {
  "kernelspec": {
   "display_name": "Python 3 (ipykernel)",
   "language": "python",
   "name": "python3"
  },
  "language_info": {
   "codemirror_mode": {
    "name": "ipython",
    "version": 3
   },
   "file_extension": ".py",
   "mimetype": "text/x-python",
   "name": "python",
   "nbconvert_exporter": "python",
   "pygments_lexer": "ipython3",
   "version": "3.9.7"
  }
 },
 "nbformat": 4,
 "nbformat_minor": 5
}
