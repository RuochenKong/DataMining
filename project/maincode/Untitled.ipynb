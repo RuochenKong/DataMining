{
 "cells": [
  {
   "cell_type": "code",
   "execution_count": 1,
   "id": "02e2ae7c",
   "metadata": {},
   "outputs": [],
   "source": [
    "import math\n",
    "import numpy as np\n",
    "import pandas as pd\n",
    "from cnn2L import cnn1\n",
    "from cnn4L import cnn2"
   ]
  },
  {
   "cell_type": "code",
   "execution_count": 3,
   "id": "7293bb22",
   "metadata": {},
   "outputs": [],
   "source": [
    "choices = ['norm','origin','filter']\n",
    "path = {'norm':'normalized', 'origin':'processed_train', 'filter': 'norm_filtcorr'}"
   ]
  },
  {
   "cell_type": "code",
   "execution_count": 4,
   "id": "67751704",
   "metadata": {},
   "outputs": [],
   "source": [
    "dataform = choices[0]\n",
    "\n",
    "X_train = np.load('../results/keras_%s/xtrain.npy'%dataform)\n",
    "y_train = np.load('../results/keras_%s/ytrain.npy'%dataform)\n",
    "X_test = np.load('../results/keras_%s/xtest.npy'%dataform)\n",
    "y_test = np.load('../results/keras_%s/ytest.npy'%dataform)\n",
    "\n",
    "feature_length = len(X_train[0])\n",
    "input_shape = (feature_length,1)\n",
    "\n",
    "X_train = X_train.reshape(len(X_train),feature_length,1)\n",
    "X_test = X_test.reshape(len(X_test),feature_length,1)"
   ]
  },
  {
   "cell_type": "code",
   "execution_count": 6,
   "id": "026458b7",
   "metadata": {},
   "outputs": [
    {
     "data": {
      "text/plain": [
       "(15927, 356, 1)"
      ]
     },
     "execution_count": 6,
     "metadata": {},
     "output_type": "execute_result"
    }
   ],
   "source": [
    "X_train.shape"
   ]
  },
  {
   "cell_type": "code",
   "execution_count": null,
   "id": "0cb25185",
   "metadata": {},
   "outputs": [],
   "source": [
    "model = cnn1(input_shape)\n",
    "model.summary()"
   ]
  },
  {
   "cell_type": "code",
   "execution_count": null,
   "id": "cceec59e",
   "metadata": {},
   "outputs": [],
   "source": [
    "epochs = 15\n",
    "batch_size = 128\n",
    "\n",
    "print('Start training the model...')\n",
    "model.fit(X_train, y_train, batch_size=batch_size, epochs=epochs, validation_split=0.15)\n",
    "\n",
    "print('\\nTest Result...')\n",
    "_,acc = model.evaluate(X_test, y_test, batch_size=batch_size)\n",
    "pred = model.predict(X_test)\n",
    "yhat = np.argmax(pred, axis=1).flatten()"
   ]
  }
 ],
 "metadata": {
  "kernelspec": {
   "display_name": "Python 3 (ipykernel)",
   "language": "python",
   "name": "python3"
  },
  "language_info": {
   "codemirror_mode": {
    "name": "ipython",
    "version": 3
   },
   "file_extension": ".py",
   "mimetype": "text/x-python",
   "name": "python",
   "nbconvert_exporter": "python",
   "pygments_lexer": "ipython3",
   "version": "3.9.7"
  }
 },
 "nbformat": 4,
 "nbformat_minor": 5
}
