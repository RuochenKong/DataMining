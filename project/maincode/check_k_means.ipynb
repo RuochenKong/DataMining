{
 "cells": [
  {
   "cell_type": "code",
   "execution_count": 9,
   "id": "0765690e",
   "metadata": {},
   "outputs": [
    {
     "name": "stdout",
     "output_type": "stream",
     "text": [
      "(19909,) (19909, 356)\n"
     ]
    }
   ],
   "source": [
    "import numpy as np\n",
    "\n",
    "labels = np.load('../data/train_labels.npy')\n",
    "#data = np.load('../data/processed_train.npy')\n",
    "data = np.load('../data/normalized.npy')\n",
    "print(labels.shape, data.shape)\n",
    "\n",
    "data = np.nan_to_num(data)"
   ]
  },
  {
   "cell_type": "code",
   "execution_count": 10,
   "id": "d9decb2b",
   "metadata": {},
   "outputs": [
    {
     "data": {
      "text/plain": [
       "(19909,)"
      ]
     },
     "execution_count": 10,
     "metadata": {},
     "output_type": "execute_result"
    }
   ],
   "source": [
    "from sklearn.cluster import KMeans\n",
    "kmeans = KMeans(n_clusters=19, random_state=0).fit(data)\n",
    "\n",
    "unsuperlabels = kmeans.labels_\n",
    "N = len(unsuperlabels)\n",
    "unsuperlabels.shape\n"
   ]
  },
  {
   "cell_type": "code",
   "execution_count": 11,
   "id": "ebcc850d",
   "metadata": {},
   "outputs": [],
   "source": [
    "def clusters(label):\n",
    "    res = []\n",
    "    for i in range(19): \n",
    "        res.append([])\n",
    "\n",
    "    for i in range(N):\n",
    "        ind = label[i]\n",
    "        res[ind].append(i)\n",
    "\n",
    "    for i in range(19):\n",
    "        res[i] = set(res[i])\n",
    "        \n",
    "    return res\n",
    "\n",
    "def jaccard(s1,s2,p = False):\n",
    "    inter = len(s1 & s2)\n",
    "    union = len(s1 | s2)\n",
    "    if p:\n",
    "        print('inter: %d, union: %d'%(inter,union))\n",
    "    return inter/union\n"
   ]
  },
  {
   "cell_type": "code",
   "execution_count": 12,
   "id": "65938266",
   "metadata": {},
   "outputs": [
    {
     "name": "stdout",
     "output_type": "stream",
     "text": [
      "0 - 0 0 - 2 0 - 18 \n",
      "1 - 0 1 - 4 1 - 14 \n",
      "2 - 0 2 - 3 2 - 4 2 - 14 \n",
      "3 - 0 3 - 5 3 - 16 \n",
      "4 - 0 4 - 1 4 - 2 \n",
      "5 - 0 5 - 1 5 - 5 \n",
      "6 - 0 6 - 2 6 - 18 \n",
      "7 - 0 7 - 5 7 - 8 \n",
      "8 - 0 8 - 1 \n",
      "9 - 0 9 - 1 9 - 12 \n",
      "10 - 0 10 - 2 10 - 16 \n",
      "11 - 0 11 - 6 11 - 8 \n",
      "12 - 0 12 - 1 12 - 6 12 - 8 12 - 12 \n",
      "13 - 0 13 - 1 13 - 5 13 - 6 \n",
      "14 - 0 14 - 1 14 - 5 \n",
      "15 - 0 15 - 1 15 - 2 15 - 9 \n",
      "16 - 0 16 - 1 16 - 9 \n",
      "17 - 0 \n",
      "18 - 0 18 - 1 18 - 2 18 - 3 18 - 9 \n"
     ]
    },
    {
     "data": {
      "text/plain": [
       "[0.1468189233278956,\n",
       " 0.11982779239416408,\n",
       " 0.14125376402956474,\n",
       " 0.09800664451827243,\n",
       " 0.19241672572643514,\n",
       " 0.10827790096082779,\n",
       " 0.06500351370344343,\n",
       " 0.09940249864204237,\n",
       " 0.05643232902917265,\n",
       " 0.08532934131736528,\n",
       " 0.057931034482758624,\n",
       " 0.1434108527131783,\n",
       " 0.29207920792079206,\n",
       " 0.03027027027027027,\n",
       " 0.016350210970464137,\n",
       " 0.011255411255411256,\n",
       " 0.016536118363794605,\n",
       " 0.005904059040590406,\n",
       " 0.003693444136657433]"
      ]
     },
     "execution_count": 12,
     "metadata": {},
     "output_type": "execute_result"
    }
   ],
   "source": [
    "origin = clusters(labels)\n",
    "kmean = clusters(unsuperlabels)\n",
    "\n",
    "jaccard_scores = []\n",
    "for i in range(19):\n",
    "    best = 0\n",
    "    for j in range(19):\n",
    "        jacc = jaccard(origin[i],kmean[j])\n",
    "        if jacc > best:\n",
    "            best = jacc\n",
    "            print(i,'-',j, end = ' ')\n",
    "    print()\n",
    "    jaccard_scores.append(best)\n",
    "\n",
    "jaccard_scores\n"
   ]
  },
  {
   "cell_type": "code",
   "execution_count": 5,
   "id": "2f694dd3",
   "metadata": {},
   "outputs": [
    {
     "name": "stdout",
     "output_type": "stream",
     "text": [
      "inter: 236, union: 808\n"
     ]
    },
    {
     "data": {
      "text/plain": [
       "0.29207920792079206"
      ]
     },
     "execution_count": 5,
     "metadata": {},
     "output_type": "execute_result"
    }
   ],
   "source": [
    "def printclus(c):\n",
    "    res = list(c)\n",
    "    res.sort()\n",
    "    print(res)\n",
    "jaccard(origin[12],kmean[12],True)"
   ]
  },
  {
   "cell_type": "code",
   "execution_count": 7,
   "id": "841cde23",
   "metadata": {},
   "outputs": [
    {
     "name": "stdout",
     "output_type": "stream",
     "text": [
      "0 - 0 \n",
      "1 - 0 1 - 3 \n",
      "2 - 0 2 - 3 2 - 15 \n",
      "3 - 0 3 - 3 \n",
      "4 - 0 4 - 12 4 - 14 \n",
      "5 - 0 5 - 3 \n",
      "6 - 0 6 - 1 \n",
      "7 - 0 7 - 3 \n",
      "8 - 0 \n",
      "9 - 0 9 - 3 \n",
      "10 - 0 \n",
      "11 - 0 11 - 3 \n",
      "12 - 0 12 - 3 \n",
      "13 - 0 13 - 3 \n",
      "14 - 0 14 - 3 \n",
      "15 - 0 15 - 1 15 - 2 15 - 7 \n",
      "16 - 3 \n",
      "17 - 0 17 - 3 \n",
      "18 - 0 18 - 5 18 - 12 18 - 14 \n"
     ]
    },
    {
     "data": {
      "text/plain": [
       "[0.10896164021164022,\n",
       " 0.12025316455696203,\n",
       " 0.12025654730090861,\n",
       " 0.12877635296674636,\n",
       " 0.09958333333333333,\n",
       " 0.09520616828695944,\n",
       " 0.057157569515962924,\n",
       " 0.07572880598682007,\n",
       " 0.04541305340027385,\n",
       " 0.056054819141765896,\n",
       " 0.040619863817797607,\n",
       " 0.055923729798860594,\n",
       " 0.04702595739727622,\n",
       " 0.021596783457782882,\n",
       " 0.009716599190283401,\n",
       " 0.009433962264150943,\n",
       " 0.0107113750145535,\n",
       " 0.004181670344987803,\n",
       " 0.0022396416573348264]"
      ]
     },
     "execution_count": 7,
     "metadata": {},
     "output_type": "execute_result"
    }
   ],
   "source": [
    "data = np.load('../data/processed_train.npy')\n",
    "data = np.nan_to_num(data)\n",
    "kmeans = KMeans(n_clusters=19, random_state=0).fit(data)\n",
    "\n",
    "unsuperlabels = kmeans.labels_\n",
    "N = len(unsuperlabels)\n",
    "\n",
    "origin = clusters(labels)\n",
    "kmean = clusters(unsuperlabels)\n",
    "\n",
    "jaccard_scores_unorm = []\n",
    "for i in range(19):\n",
    "    best = 0\n",
    "    for j in range(19):\n",
    "        jacc = jaccard(origin[i],kmean[j])\n",
    "        if jacc > best:\n",
    "            best = jacc\n",
    "            print(i,'-',j, end = ' ')\n",
    "    print()\n",
    "    jaccard_scores_unorm.append(best)\n",
    "\n",
    "jaccard_scores_unorm\n"
   ]
  },
  {
   "cell_type": "code",
   "execution_count": 22,
   "id": "934920a8",
   "metadata": {},
   "outputs": [
    {
     "name": "stdout",
     "output_type": "stream",
     "text": [
      "0 - 0 0 - 1 \n",
      "1 - 0 1 - 1 1 - 6 1 - 8 1 - 13 \n",
      "2 - 1 2 - 6 2 - 13 \n",
      "3 - 0 3 - 1 3 - 2 3 - 3 3 - 10 3 - 14 \n",
      "4 - 1 4 - 2 4 - 5 \n",
      "5 - 0 5 - 1 5 - 2 5 - 7 5 - 15 \n",
      "6 - 0 6 - 1 6 - 5 6 - 9 \n",
      "7 - 0 7 - 1 7 - 2 7 - 3 7 - 10 \n",
      "8 - 0 8 - 1 8 - 2 8 - 7 \n",
      "9 - 0 9 - 3 9 - 7 \n",
      "10 - 0 10 - 1 \n",
      "11 - 0 11 - 3 11 - 10 11 - 11 11 - 17 \n",
      "12 - 0 \n",
      "13 - 0 13 - 1 13 - 2 13 - 3 \n",
      "14 - 2 14 - 7 14 - 8 \n",
      "15 - 1 15 - 2 15 - 4 15 - 18 \n",
      "16 - 0 16 - 7 \n",
      "17 - 1 17 - 2 17 - 7 17 - 8 \n",
      "18 - 1 18 - 2 18 - 3 18 - 9 \n"
     ]
    },
    {
     "data": {
      "text/plain": [
       "[0.137913741223671,\n",
       " 0.1372960372960373,\n",
       " 0.1860907362129856,\n",
       " 0.0808931185944363,\n",
       " 0.16193719258418462,\n",
       " 0.15314401622718052,\n",
       " 0.09848156182212581,\n",
       " 0.10864197530864197,\n",
       " 0.04963680387409201,\n",
       " 0.08677966101694916,\n",
       " 0.054520037278657965,\n",
       " 0.1180327868852459,\n",
       " 0.47326732673267324,\n",
       " 0.0608,\n",
       " 0.019933554817275746,\n",
       " 0.01423785594639866,\n",
       " 0.023174971031286212,\n",
       " 0.006872852233676976,\n",
       " 0.004418262150220913]"
      ]
     },
     "execution_count": 22,
     "metadata": {},
     "output_type": "execute_result"
    }
   ],
   "source": [
    "data = np.load('../data/norm_filtcorr.npy')\n",
    "kmeans = KMeans(n_clusters=19, random_state=0).fit(data)\n",
    "\n",
    "unsuperlabels = kmeans.labels_\n",
    "N = len(unsuperlabels)\n",
    "\n",
    "origin = clusters(labels)\n",
    "kmean = clusters(unsuperlabels)\n",
    "\n",
    "jaccard_scores_filt = []\n",
    "for i in range(19):\n",
    "    best = 0\n",
    "    for j in range(19):\n",
    "        jacc = jaccard(origin[i],kmean[j])\n",
    "        if jacc > best:\n",
    "            best = jacc\n",
    "            print(i,'-',j, end = ' ')\n",
    "    print()\n",
    "    jaccard_scores_filt.append(best)\n",
    "\n",
    "jaccard_scores_filt"
   ]
  },
  {
   "cell_type": "code",
   "execution_count": 17,
   "id": "5232bbcf",
   "metadata": {},
   "outputs": [],
   "source": [
    "import pandas as pd\n",
    "compare = [np.array(jaccard_scores),np.array(jaccard_scores_unorm)]\n",
    "compare = np.array(compare).T\n",
    "comp = pd.DataFrame(compare, columns = ['normalized', 'original'])"
   ]
  },
  {
   "cell_type": "markdown",
   "id": "f7b139b7",
   "metadata": {},
   "source": [
    "# Normalized v.s. Original \n",
    "|\t|norm      |origin    |filter    |\n",
    "|---|----------|----------|----------|\n",
    "| 0\t|`0.146819`|0.108962  |0.137913  |\n",
    "| 1\t|0.119828  |0.120253  |`0.137296`|\n",
    "| 2\t|0.141254  |0.120257  |`0.186090`|\n",
    "| 3\t|0.098007  |`0.128776`|0.080893  |\n",
    "| 4\t|`0.192417`|0.099583  |0.161937  |\n",
    "| 5\t|0.108278  |0.095206  |`0.153144`|\n",
    "| 6\t|0.065004  |0.057158  |`0.098481`|\n",
    "| 7\t|0.099402  |0.075729  |`0.108641`|\n",
    "| 8\t|`0.056432`|0.045413  |0.049636  |\n",
    "| 9\t|0.085329  |0.056055  |`0.086779`|\n",
    "|10\t|`0.057931`|0.040620  |0.054520  |\n",
    "|11\t|`0.143411`|0.055924  |0.118032  |\n",
    "|12\t|0.292079  |0.047026  |`0.473267`|\n",
    "|13\t|0.030270  |0.021597  |`0.0608`  |\n",
    "|14\t|0.016350  |0.009717  |`0.019933`|\n",
    "|15\t|0.011255  |0.009434  |`0.014237`|\n",
    "|16\t|0.016536  |0.010711  |`0.023174`|\n",
    "|17\t|0.005904  |0.004182  |`0.006872`|\n",
    "|18\t|0.003693  |0.002240  |`0.004418`|\n",
    "\n",
    "\n",
    "Normalized features performed much better on unsupervised method (k-means)"
   ]
  },
  {
   "cell_type": "code",
   "execution_count": null,
   "id": "c38cee77",
   "metadata": {},
   "outputs": [],
   "source": []
  }
 ],
 "metadata": {
  "kernelspec": {
   "display_name": "Python 3 (ipykernel)",
   "language": "python",
   "name": "python3"
  },
  "language_info": {
   "codemirror_mode": {
    "name": "ipython",
    "version": 3
   },
   "file_extension": ".py",
   "mimetype": "text/x-python",
   "name": "python",
   "nbconvert_exporter": "python",
   "pygments_lexer": "ipython3",
   "version": "3.9.7"
  }
 },
 "nbformat": 4,
 "nbformat_minor": 5
}
